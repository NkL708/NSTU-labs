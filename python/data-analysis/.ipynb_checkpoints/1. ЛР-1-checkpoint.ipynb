{
 "cells": [
  {
   "cell_type": "markdown",
   "id": "44ad2e38",
   "metadata": {
    "code_folding": [],
    "id": "44ad2e38"
   },
   "source": [
    "## Цель работы "
   ]
  },
  {
   "cell_type": "markdown",
   "id": "3fe6350a",
   "metadata": {
    "id": "3fe6350a"
   },
   "source": [
    "Получить практические навыки работы по решению задачи первичного анализа «сырых» данных, подготовки массива к обработке, выявления и описания зависимостей в исходных данных с использованием языка программирования."
   ]
  },
  {
   "cell_type": "markdown",
   "id": "77abbe77",
   "metadata": {
    "id": "77abbe77"
   },
   "source": [
    "## Ход работы\n",
    "Ознакомиться с методическими материалами и примерами выполнения команд.\n",
    "Последовательно выполнить следующие шаги применительно к выборке данных, согласно варианту задания:\n",
    "\n",
    "1. Работа с данными \n",
    "\n",
    "  1. Получить \\*.csv-файл с исходными данными согласно варианту. С помощью текстового редактора определить наличие заголовка и знак-разделитель столбца\n",
    "\n",
    "  2. С помощью библиотеки pandas создать таблицу (объект Dataframe) на основе \\*.csv-файла с исходными данными\n",
    "\n",
    "  3. Провести первичный анализ всех данных. Получить размер исходный таблицы\n",
    "\n",
    "  4. Определить наличие пропусков и выбрать способ их обработки. Получить размер таблицы после обработки пропусков \n",
    "\n",
    "  5. Определить наличие и привести нужные для работы признаки к числовому типу\n",
    "\n",
    "  6. Сохранить в виде файла текущее состояние обработанной таблицы (Dataframe)\n",
    "\n",
    "\n",
    "2. Выбор и обработка признаков\n",
    "\n",
    "  1. Проверить взаимозависимость всех числовых признаков на основе матрицы корреляции\n",
    "\n",
    "  2. Выбрать целевую переменную 'y' и независимые признаки 'x1, x2, x3, ...', оказывающие на нее влияние (целевая - 1 шт., признаки>=2 шт.) \n",
    "\n",
    "  3. Исключить выбросы\n",
    "\n",
    "  4. Сформировать обучающую и проверочную части выборки\n",
    "\n",
    "\n",
    "10. Построить линейные регрессионные модели для каждого выбранной комбинации признаков :\n",
    "  - m1: от единственного ЕДИНСТВЕННОЙ переменной (x1) на НЕ стандартизированных  данных\n",
    "  - m2: от множества НАБОРА#1 переменных (пример: x1, x2, x3) на НЕ стандартизированных данных\n",
    "  - m3: от множества НАБОРА#2 переменных (пример: x5, x6, x7) на НЕ стандартизированных данных\n",
    "\n",
    "11. Выполнить анализ полученных моделей:\n",
    "\n",
    "  1. Получить коэффициенты линейной регрессии y(x) = K*x + B\n",
    "\n",
    "  2. Получить оценку точности R2(коэфф. детерминации) и RMSE (среднеквадратичное отклонение)\n",
    "\n",
    "  3. Нанести график прямой y(x) = K*x + B поверх точечной диаграммы (выбранный признак, целевая переменная)\n",
    "  \n",
    "  4. Построить диаграмму рассеяния вычисленных значений Y_pred от проверочных значений Y_test\n",
    "  \n",
    "  5. Построить гистограмму остатков (разностей между Y_pred и Y_test)\n",
    "  \n",
    "12. \\* В качестве доп. задания предлагается расширить множество формируемых моделей."
   ]
  },
  {
   "cell_type": "markdown",
   "id": "c4fa64b2",
   "metadata": {
    "id": "c4fa64b2"
   },
   "source": [
    "## Содержание отчета\n",
    "<font color='red'>Название отчета должно быть в формате:\n",
    "<br>АВТ-9xx_ЛР-xx_Фамилия1_Фамилия2\n",
    "</font>\n",
    "\n",
    "\n",
    "1. Результаты первичного анализа исходных данных\n",
    "  1. Количество записей и признаков\n",
    "  2. Смысловое описание признаков\n",
    "  3. Типы данных столбцов и информация о пропусках\n",
    "  4. Результат замены категориальных или ранговых данных на числовые\n",
    "  5. Результат обработки пропущенных значений\n",
    "\n",
    "2. Обоснование выбора целевой переменной и признаков для анализа\n",
    "  1. Перечень вариантов целевых переменных, исходя из п. 1.2.\n",
    "  2. Матрица коэффициентов корреляции\n",
    "  3. Матрица смежности (графический вариант интерпретации взаимосвязей переменных)\n",
    "  4. Информация о целевом значении и признаках на него влияющих \n",
    "  5. Результат отчистки выбранных признаков исходного массива от выбросов\n",
    "\n",
    "3. Результаты анализа полученных регрессионных линейных моделей (m11,m12,m21,m22)\n",
    "  1. Уравнение линейной регрессии вида y(x_i, ...) =  K_i*x_i + ... + B \n",
    "  2. Оценка точности R2 и RMSE\n",
    "  3. График полученной линейной зависимости y(x) = K*x + B поверх точечной диаграммы (y: выбранный признак, x: целевая переменная)\n",
    "  4. Построить диаграмму рассеяния вычисленных значений Y_pred от проверочных значений Y_test\n",
    "  5. Гистограмму остатков (разностей между Y_pred и Y_test)\n",
    "  \n",
    "\n",
    "4. Выводы по результатам сравнительного анализа полученных регрессионных моделей "
   ]
  },
  {
   "cell_type": "markdown",
   "id": "ac1eeeca",
   "metadata": {
    "id": "ac1eeeca"
   },
   "source": [
    "# Работа с данными"
   ]
  },
  {
   "cell_type": "markdown",
   "id": "ed724f58",
   "metadata": {
    "id": "ed724f58"
   },
   "source": [
    "## Подключение библиотек"
   ]
  },
  {
   "cell_type": "markdown",
   "id": "3a968c7f",
   "metadata": {
    "id": "3a968c7f"
   },
   "source": [
    "Перед началом работы убедитесь, что необходимые для работы пакеты установлены в системе. Для установки отсутствующих используйте команду:\n",
    "- pip install numpy pandas sklearn seaborn matplotlib\n",
    "- pip install jupyterlab\n",
    "\n",
    "Назначение библиотек:\n",
    "* numpy - обработка многомерных массивов, линейная алгебра, преобразование Фурье, случайные числа\n",
    "* pandas - обработка (загрузка, сохранение, анализа) данных \n",
    "* seaborn - визуализация данных (на базе matplotlib)\n",
    "* sklearn - (классификация, регрессия, кластеризация...)\n",
    "* scipy - пакет для выполнения научных и инженерных расчётов."
   ]
  },
  {
   "cell_type": "code",
   "execution_count": 1,
   "id": "e5fe08d8",
   "metadata": {
    "id": "e5fe08d8"
   },
   "outputs": [],
   "source": [
    "# Python 3.8\n",
    "import pandas as pd\n",
    "import numpy  as np\n",
    "\n",
    "from sklearn import linear_model\n",
    "from sklearn import metrics\n",
    "from sklearn.model_selection import train_test_split, cross_val_score\n",
    "\n",
    "%matplotlib inline\n",
    "from matplotlib import pyplot as plt\n",
    "from matplotlib import cm\n",
    "import seaborn as sns"
   ]
  },
  {
   "cell_type": "markdown",
   "id": "1632b9a0",
   "metadata": {
    "id": "1632b9a0"
   },
   "source": [
    "## Загрузка входных данных"
   ]
  },
  {
   "cell_type": "markdown",
   "id": "123f11a8",
   "metadata": {
    "id": "123f11a8"
   },
   "source": [
    "Данные \"Melbourne Housing Snapshot\" содержат информацию о продажах недвижимости в г. Мельбурн (Австралия)\n",
    "- Suburb: название окрестности, пригорода\n",
    "- Rooms: Кол-во комнат\n",
    "- Price: Цена\n",
    "- Method - способ продажи:\n",
    "  - S - property sold; SP - property sold prior;\n",
    "  - PI - property passed in; PN - sold prior not disclosed;\n",
    "  - SN - sold not disclosed; NB - no bid;\n",
    "  - VB - vendor bid; W - withdrawn prior to auction;\n",
    "  - SA - sold after auction; SS - sold after auction price not disclosed.\n",
    "  - N/A - price or highest bid not available.\n",
    "- Type - тип недвижимости:\n",
    "  - br - bedroom(s);\n",
    "  - h - house,cottage,villa, semi,terrace; \n",
    "  - u - unit, duplex; \n",
    "  - t - townhouse;\n",
    "  - dev site - development site;\n",
    "  - o res - other residential.\n",
    "- SellerG: Агент по недвижимости, совершивший сделку\n",
    "- Date: Дата продажи\n",
    "- Distance: Расстояние до центрального делового района CBD (central business district)\n",
    "- Regionname: Район, название\n",
    "- Propertycount: Number of properties that exist in the suburb.\n",
    "- Bedroom2 : Кол-во спален\n",
    "- Bathroom: Кол-во ванных\n",
    "- Car: Кол-во парковочных мест\n",
    "- Landsize: Размер участка\n",
    "- BuildingArea: Площадь\n",
    "- CouncilArea: Управляющая компания"
   ]
  },
  {
   "cell_type": "markdown",
   "id": "c2f326f9",
   "metadata": {
    "id": "c2f326f9"
   },
   "source": [
    "Для загрузки табличных данных из файла применятся функция .read_csv() с указанием параметров (путь, кодировка, разделитель, обработка колонок с заголовками или датой...)"
   ]
  },
  {
   "cell_type": "markdown",
   "id": "hTTatqrkRiqr",
   "metadata": {
    "id": "hTTatqrkRiqr"
   },
   "source": [
    "<b> Путь вида \"../datasets/melbourne_data.csv\" подразумевает следующее расположение файлов:\n",
    "```\n",
    "WorkDir/\n",
    "├─ datasets/\n",
    "│  └─ melbourne_data.csv\n",
    "│ \n",
    "├─ lab.1,2/\n",
    "│  └─ 1,2. ЛР-1,2.ipynb\n",
    "```\n",
    "</b> \n"
   ]
  },
  {
   "cell_type": "code",
   "execution_count": 5,
   "id": "52401000",
   "metadata": {
    "colab": {
     "base_uri": "https://localhost:8080/",
     "height": 258
    },
    "executionInfo": {
     "elapsed": 635,
     "status": "ok",
     "timestamp": 1662905640277,
     "user": {
      "displayName": "Иван Осипенко",
      "userId": "16599116897440604411"
     },
     "user_tz": -420
    },
    "id": "52401000",
    "outputId": "b7bfa506-c8e7-4333-e1ac-83c8abba7011"
   },
   "outputs": [
    {
     "ename": "FileNotFoundError",
     "evalue": "[Errno 2] No such file or directory: './assets/datasets/melbourne_data.zip'",
     "output_type": "error",
     "traceback": [
      "\u001b[1;31m---------------------------------------------------------------------------\u001b[0m",
      "\u001b[1;31mFileNotFoundError\u001b[0m                         Traceback (most recent call last)",
      "Cell \u001b[1;32mIn [5], line 1\u001b[0m\n\u001b[1;32m----> 1\u001b[0m df \u001b[38;5;241m=\u001b[39m pd\u001b[38;5;241m.\u001b[39mread_csv(\u001b[38;5;124m'\u001b[39m\u001b[38;5;124m./assets/datasets/melbourne_data.zip\u001b[39m\u001b[38;5;124m'\u001b[39m, \u001b[38;5;66;03m# путь к файлу, (используй автодотолнение)\u001b[39;00m\n\u001b[0;32m      2\u001b[0m                    sep\u001b[38;5;241m=\u001b[39m\u001b[38;5;124m'\u001b[39m\u001b[38;5;124m,\u001b[39m\u001b[38;5;124m'\u001b[39m, \u001b[38;5;66;03m# разделитель данных в файле\u001b[39;00m\n\u001b[0;32m      3\u001b[0m                  \n\u001b[0;32m      4\u001b[0m                    \u001b[38;5;66;03m#  header= {None|Целочисленное} номер строки с заголовками, нумерация с нуля\u001b[39;00m\n\u001b[0;32m      5\u001b[0m                    header\u001b[38;5;241m=\u001b[39m\u001b[38;5;241m0\u001b[39m,       \u001b[38;5;66;03m#если заголовки в нулевой строке таблицы\u001b[39;00m\n\u001b[0;32m      6\u001b[0m                    \u001b[38;5;66;03m#  header=None  #если заголовки отсутствуют\u001b[39;00m\n\u001b[0;32m      7\u001b[0m \n\u001b[0;32m      8\u001b[0m                    \u001b[38;5;66;03m# na_values =  ['???', ' '], # доп. символы для обозначения отсутствующих значений\u001b[39;00m\n\u001b[0;32m      9\u001b[0m )\n\u001b[0;32m     11\u001b[0m df[:\u001b[38;5;241m2\u001b[39m]\n",
      "File \u001b[1;32mE:\\Учёба\\4 Курс\\7 Семестр\\Системы ИИ и машинное обучение\\NSTU-data-analysis\\venv\\lib\\site-packages\\pandas\\util\\_decorators.py:211\u001b[0m, in \u001b[0;36mdeprecate_kwarg.<locals>._deprecate_kwarg.<locals>.wrapper\u001b[1;34m(*args, **kwargs)\u001b[0m\n\u001b[0;32m    209\u001b[0m     \u001b[38;5;28;01melse\u001b[39;00m:\n\u001b[0;32m    210\u001b[0m         kwargs[new_arg_name] \u001b[38;5;241m=\u001b[39m new_arg_value\n\u001b[1;32m--> 211\u001b[0m \u001b[38;5;28;01mreturn\u001b[39;00m func(\u001b[38;5;241m*\u001b[39margs, \u001b[38;5;241m*\u001b[39m\u001b[38;5;241m*\u001b[39mkwargs)\n",
      "File \u001b[1;32mE:\\Учёба\\4 Курс\\7 Семестр\\Системы ИИ и машинное обучение\\NSTU-data-analysis\\venv\\lib\\site-packages\\pandas\\util\\_decorators.py:317\u001b[0m, in \u001b[0;36mdeprecate_nonkeyword_arguments.<locals>.decorate.<locals>.wrapper\u001b[1;34m(*args, **kwargs)\u001b[0m\n\u001b[0;32m    311\u001b[0m \u001b[38;5;28;01mif\u001b[39;00m \u001b[38;5;28mlen\u001b[39m(args) \u001b[38;5;241m>\u001b[39m num_allow_args:\n\u001b[0;32m    312\u001b[0m     warnings\u001b[38;5;241m.\u001b[39mwarn(\n\u001b[0;32m    313\u001b[0m         msg\u001b[38;5;241m.\u001b[39mformat(arguments\u001b[38;5;241m=\u001b[39marguments),\n\u001b[0;32m    314\u001b[0m         \u001b[38;5;167;01mFutureWarning\u001b[39;00m,\n\u001b[0;32m    315\u001b[0m         stacklevel\u001b[38;5;241m=\u001b[39mfind_stack_level(inspect\u001b[38;5;241m.\u001b[39mcurrentframe()),\n\u001b[0;32m    316\u001b[0m     )\n\u001b[1;32m--> 317\u001b[0m \u001b[38;5;28;01mreturn\u001b[39;00m func(\u001b[38;5;241m*\u001b[39margs, \u001b[38;5;241m*\u001b[39m\u001b[38;5;241m*\u001b[39mkwargs)\n",
      "File \u001b[1;32mE:\\Учёба\\4 Курс\\7 Семестр\\Системы ИИ и машинное обучение\\NSTU-data-analysis\\venv\\lib\\site-packages\\pandas\\io\\parsers\\readers.py:950\u001b[0m, in \u001b[0;36mread_csv\u001b[1;34m(filepath_or_buffer, sep, delimiter, header, names, index_col, usecols, squeeze, prefix, mangle_dupe_cols, dtype, engine, converters, true_values, false_values, skipinitialspace, skiprows, skipfooter, nrows, na_values, keep_default_na, na_filter, verbose, skip_blank_lines, parse_dates, infer_datetime_format, keep_date_col, date_parser, dayfirst, cache_dates, iterator, chunksize, compression, thousands, decimal, lineterminator, quotechar, quoting, doublequote, escapechar, comment, encoding, encoding_errors, dialect, error_bad_lines, warn_bad_lines, on_bad_lines, delim_whitespace, low_memory, memory_map, float_precision, storage_options)\u001b[0m\n\u001b[0;32m    935\u001b[0m kwds_defaults \u001b[38;5;241m=\u001b[39m _refine_defaults_read(\n\u001b[0;32m    936\u001b[0m     dialect,\n\u001b[0;32m    937\u001b[0m     delimiter,\n\u001b[1;32m   (...)\u001b[0m\n\u001b[0;32m    946\u001b[0m     defaults\u001b[38;5;241m=\u001b[39m{\u001b[38;5;124m\"\u001b[39m\u001b[38;5;124mdelimiter\u001b[39m\u001b[38;5;124m\"\u001b[39m: \u001b[38;5;124m\"\u001b[39m\u001b[38;5;124m,\u001b[39m\u001b[38;5;124m\"\u001b[39m},\n\u001b[0;32m    947\u001b[0m )\n\u001b[0;32m    948\u001b[0m kwds\u001b[38;5;241m.\u001b[39mupdate(kwds_defaults)\n\u001b[1;32m--> 950\u001b[0m \u001b[38;5;28;01mreturn\u001b[39;00m \u001b[43m_read\u001b[49m\u001b[43m(\u001b[49m\u001b[43mfilepath_or_buffer\u001b[49m\u001b[43m,\u001b[49m\u001b[43m \u001b[49m\u001b[43mkwds\u001b[49m\u001b[43m)\u001b[49m\n",
      "File \u001b[1;32mE:\\Учёба\\4 Курс\\7 Семестр\\Системы ИИ и машинное обучение\\NSTU-data-analysis\\venv\\lib\\site-packages\\pandas\\io\\parsers\\readers.py:605\u001b[0m, in \u001b[0;36m_read\u001b[1;34m(filepath_or_buffer, kwds)\u001b[0m\n\u001b[0;32m    602\u001b[0m _validate_names(kwds\u001b[38;5;241m.\u001b[39mget(\u001b[38;5;124m\"\u001b[39m\u001b[38;5;124mnames\u001b[39m\u001b[38;5;124m\"\u001b[39m, \u001b[38;5;28;01mNone\u001b[39;00m))\n\u001b[0;32m    604\u001b[0m \u001b[38;5;66;03m# Create the parser.\u001b[39;00m\n\u001b[1;32m--> 605\u001b[0m parser \u001b[38;5;241m=\u001b[39m TextFileReader(filepath_or_buffer, \u001b[38;5;241m*\u001b[39m\u001b[38;5;241m*\u001b[39mkwds)\n\u001b[0;32m    607\u001b[0m \u001b[38;5;28;01mif\u001b[39;00m chunksize \u001b[38;5;129;01mor\u001b[39;00m iterator:\n\u001b[0;32m    608\u001b[0m     \u001b[38;5;28;01mreturn\u001b[39;00m parser\n",
      "File \u001b[1;32mE:\\Учёба\\4 Курс\\7 Семестр\\Системы ИИ и машинное обучение\\NSTU-data-analysis\\venv\\lib\\site-packages\\pandas\\io\\parsers\\readers.py:1442\u001b[0m, in \u001b[0;36mTextFileReader.__init__\u001b[1;34m(self, f, engine, **kwds)\u001b[0m\n\u001b[0;32m   1439\u001b[0m     \u001b[38;5;28mself\u001b[39m\u001b[38;5;241m.\u001b[39moptions[\u001b[38;5;124m\"\u001b[39m\u001b[38;5;124mhas_index_names\u001b[39m\u001b[38;5;124m\"\u001b[39m] \u001b[38;5;241m=\u001b[39m kwds[\u001b[38;5;124m\"\u001b[39m\u001b[38;5;124mhas_index_names\u001b[39m\u001b[38;5;124m\"\u001b[39m]\n\u001b[0;32m   1441\u001b[0m \u001b[38;5;28mself\u001b[39m\u001b[38;5;241m.\u001b[39mhandles: IOHandles \u001b[38;5;241m|\u001b[39m \u001b[38;5;28;01mNone\u001b[39;00m \u001b[38;5;241m=\u001b[39m \u001b[38;5;28;01mNone\u001b[39;00m\n\u001b[1;32m-> 1442\u001b[0m \u001b[38;5;28mself\u001b[39m\u001b[38;5;241m.\u001b[39m_engine \u001b[38;5;241m=\u001b[39m \u001b[38;5;28;43mself\u001b[39;49m\u001b[38;5;241;43m.\u001b[39;49m\u001b[43m_make_engine\u001b[49m\u001b[43m(\u001b[49m\u001b[43mf\u001b[49m\u001b[43m,\u001b[49m\u001b[43m \u001b[49m\u001b[38;5;28;43mself\u001b[39;49m\u001b[38;5;241;43m.\u001b[39;49m\u001b[43mengine\u001b[49m\u001b[43m)\u001b[49m\n",
      "File \u001b[1;32mE:\\Учёба\\4 Курс\\7 Семестр\\Системы ИИ и машинное обучение\\NSTU-data-analysis\\venv\\lib\\site-packages\\pandas\\io\\parsers\\readers.py:1729\u001b[0m, in \u001b[0;36mTextFileReader._make_engine\u001b[1;34m(self, f, engine)\u001b[0m\n\u001b[0;32m   1727\u001b[0m     is_text \u001b[38;5;241m=\u001b[39m \u001b[38;5;28;01mFalse\u001b[39;00m\n\u001b[0;32m   1728\u001b[0m     mode \u001b[38;5;241m=\u001b[39m \u001b[38;5;124m\"\u001b[39m\u001b[38;5;124mrb\u001b[39m\u001b[38;5;124m\"\u001b[39m\n\u001b[1;32m-> 1729\u001b[0m \u001b[38;5;28mself\u001b[39m\u001b[38;5;241m.\u001b[39mhandles \u001b[38;5;241m=\u001b[39m \u001b[43mget_handle\u001b[49m\u001b[43m(\u001b[49m\n\u001b[0;32m   1730\u001b[0m \u001b[43m    \u001b[49m\u001b[43mf\u001b[49m\u001b[43m,\u001b[49m\n\u001b[0;32m   1731\u001b[0m \u001b[43m    \u001b[49m\u001b[43mmode\u001b[49m\u001b[43m,\u001b[49m\n\u001b[0;32m   1732\u001b[0m \u001b[43m    \u001b[49m\u001b[43mencoding\u001b[49m\u001b[38;5;241;43m=\u001b[39;49m\u001b[38;5;28;43mself\u001b[39;49m\u001b[38;5;241;43m.\u001b[39;49m\u001b[43moptions\u001b[49m\u001b[38;5;241;43m.\u001b[39;49m\u001b[43mget\u001b[49m\u001b[43m(\u001b[49m\u001b[38;5;124;43m\"\u001b[39;49m\u001b[38;5;124;43mencoding\u001b[39;49m\u001b[38;5;124;43m\"\u001b[39;49m\u001b[43m,\u001b[49m\u001b[43m \u001b[49m\u001b[38;5;28;43;01mNone\u001b[39;49;00m\u001b[43m)\u001b[49m\u001b[43m,\u001b[49m\n\u001b[0;32m   1733\u001b[0m \u001b[43m    \u001b[49m\u001b[43mcompression\u001b[49m\u001b[38;5;241;43m=\u001b[39;49m\u001b[38;5;28;43mself\u001b[39;49m\u001b[38;5;241;43m.\u001b[39;49m\u001b[43moptions\u001b[49m\u001b[38;5;241;43m.\u001b[39;49m\u001b[43mget\u001b[49m\u001b[43m(\u001b[49m\u001b[38;5;124;43m\"\u001b[39;49m\u001b[38;5;124;43mcompression\u001b[39;49m\u001b[38;5;124;43m\"\u001b[39;49m\u001b[43m,\u001b[49m\u001b[43m \u001b[49m\u001b[38;5;28;43;01mNone\u001b[39;49;00m\u001b[43m)\u001b[49m\u001b[43m,\u001b[49m\n\u001b[0;32m   1734\u001b[0m \u001b[43m    \u001b[49m\u001b[43mmemory_map\u001b[49m\u001b[38;5;241;43m=\u001b[39;49m\u001b[38;5;28;43mself\u001b[39;49m\u001b[38;5;241;43m.\u001b[39;49m\u001b[43moptions\u001b[49m\u001b[38;5;241;43m.\u001b[39;49m\u001b[43mget\u001b[49m\u001b[43m(\u001b[49m\u001b[38;5;124;43m\"\u001b[39;49m\u001b[38;5;124;43mmemory_map\u001b[39;49m\u001b[38;5;124;43m\"\u001b[39;49m\u001b[43m,\u001b[49m\u001b[43m \u001b[49m\u001b[38;5;28;43;01mFalse\u001b[39;49;00m\u001b[43m)\u001b[49m\u001b[43m,\u001b[49m\n\u001b[0;32m   1735\u001b[0m \u001b[43m    \u001b[49m\u001b[43mis_text\u001b[49m\u001b[38;5;241;43m=\u001b[39;49m\u001b[43mis_text\u001b[49m\u001b[43m,\u001b[49m\n\u001b[0;32m   1736\u001b[0m \u001b[43m    \u001b[49m\u001b[43merrors\u001b[49m\u001b[38;5;241;43m=\u001b[39;49m\u001b[38;5;28;43mself\u001b[39;49m\u001b[38;5;241;43m.\u001b[39;49m\u001b[43moptions\u001b[49m\u001b[38;5;241;43m.\u001b[39;49m\u001b[43mget\u001b[49m\u001b[43m(\u001b[49m\u001b[38;5;124;43m\"\u001b[39;49m\u001b[38;5;124;43mencoding_errors\u001b[39;49m\u001b[38;5;124;43m\"\u001b[39;49m\u001b[43m,\u001b[49m\u001b[43m \u001b[49m\u001b[38;5;124;43m\"\u001b[39;49m\u001b[38;5;124;43mstrict\u001b[39;49m\u001b[38;5;124;43m\"\u001b[39;49m\u001b[43m)\u001b[49m\u001b[43m,\u001b[49m\n\u001b[0;32m   1737\u001b[0m \u001b[43m    \u001b[49m\u001b[43mstorage_options\u001b[49m\u001b[38;5;241;43m=\u001b[39;49m\u001b[38;5;28;43mself\u001b[39;49m\u001b[38;5;241;43m.\u001b[39;49m\u001b[43moptions\u001b[49m\u001b[38;5;241;43m.\u001b[39;49m\u001b[43mget\u001b[49m\u001b[43m(\u001b[49m\u001b[38;5;124;43m\"\u001b[39;49m\u001b[38;5;124;43mstorage_options\u001b[39;49m\u001b[38;5;124;43m\"\u001b[39;49m\u001b[43m,\u001b[49m\u001b[43m \u001b[49m\u001b[38;5;28;43;01mNone\u001b[39;49;00m\u001b[43m)\u001b[49m\u001b[43m,\u001b[49m\n\u001b[0;32m   1738\u001b[0m \u001b[43m\u001b[49m\u001b[43m)\u001b[49m\n\u001b[0;32m   1739\u001b[0m \u001b[38;5;28;01massert\u001b[39;00m \u001b[38;5;28mself\u001b[39m\u001b[38;5;241m.\u001b[39mhandles \u001b[38;5;129;01mis\u001b[39;00m \u001b[38;5;129;01mnot\u001b[39;00m \u001b[38;5;28;01mNone\u001b[39;00m\n\u001b[0;32m   1740\u001b[0m f \u001b[38;5;241m=\u001b[39m \u001b[38;5;28mself\u001b[39m\u001b[38;5;241m.\u001b[39mhandles\u001b[38;5;241m.\u001b[39mhandle\n",
      "File \u001b[1;32mE:\\Учёба\\4 Курс\\7 Семестр\\Системы ИИ и машинное обучение\\NSTU-data-analysis\\venv\\lib\\site-packages\\pandas\\io\\common.py:780\u001b[0m, in \u001b[0;36mget_handle\u001b[1;34m(path_or_buf, mode, encoding, compression, memory_map, is_text, errors, storage_options)\u001b[0m\n\u001b[0;32m    775\u001b[0m \u001b[38;5;66;03m# ZIP Compression\u001b[39;00m\n\u001b[0;32m    776\u001b[0m \u001b[38;5;28;01melif\u001b[39;00m compression \u001b[38;5;241m==\u001b[39m \u001b[38;5;124m\"\u001b[39m\u001b[38;5;124mzip\u001b[39m\u001b[38;5;124m\"\u001b[39m:\n\u001b[0;32m    777\u001b[0m     \u001b[38;5;66;03m# error: Argument 1 to \"_BytesZipFile\" has incompatible type\u001b[39;00m\n\u001b[0;32m    778\u001b[0m     \u001b[38;5;66;03m# \"Union[str, BaseBuffer]\"; expected \"Union[Union[str, PathLike[str]],\u001b[39;00m\n\u001b[0;32m    779\u001b[0m     \u001b[38;5;66;03m# ReadBuffer[bytes], WriteBuffer[bytes]]\"\u001b[39;00m\n\u001b[1;32m--> 780\u001b[0m     handle \u001b[38;5;241m=\u001b[39m _BytesZipFile(\n\u001b[0;32m    781\u001b[0m         handle, ioargs\u001b[38;5;241m.\u001b[39mmode, \u001b[38;5;241m*\u001b[39m\u001b[38;5;241m*\u001b[39mcompression_args  \u001b[38;5;66;03m# type: ignore[arg-type]\u001b[39;00m\n\u001b[0;32m    782\u001b[0m     )\n\u001b[0;32m    783\u001b[0m     \u001b[38;5;28;01mif\u001b[39;00m handle\u001b[38;5;241m.\u001b[39mbuffer\u001b[38;5;241m.\u001b[39mmode \u001b[38;5;241m==\u001b[39m \u001b[38;5;124m\"\u001b[39m\u001b[38;5;124mr\u001b[39m\u001b[38;5;124m\"\u001b[39m:\n\u001b[0;32m    784\u001b[0m         handles\u001b[38;5;241m.\u001b[39mappend(handle)\n",
      "File \u001b[1;32mE:\\Учёба\\4 Курс\\7 Семестр\\Системы ИИ и машинное обучение\\NSTU-data-analysis\\venv\\lib\\site-packages\\pandas\\io\\common.py:1023\u001b[0m, in \u001b[0;36m_BytesZipFile.__init__\u001b[1;34m(self, file, mode, archive_name, **kwargs)\u001b[0m\n\u001b[0;32m   1019\u001b[0m kwargs\u001b[38;5;241m.\u001b[39msetdefault(\u001b[38;5;124m\"\u001b[39m\u001b[38;5;124mcompression\u001b[39m\u001b[38;5;124m\"\u001b[39m, zipfile\u001b[38;5;241m.\u001b[39mZIP_DEFLATED)\n\u001b[0;32m   1020\u001b[0m \u001b[38;5;66;03m# error: Argument 1 to \"ZipFile\" has incompatible type \"Union[\u001b[39;00m\n\u001b[0;32m   1021\u001b[0m \u001b[38;5;66;03m# Union[str, PathLike[str]], ReadBuffer[bytes], WriteBuffer[bytes]]\";\u001b[39;00m\n\u001b[0;32m   1022\u001b[0m \u001b[38;5;66;03m# expected \"Union[Union[str, PathLike[str]], IO[bytes]]\"\u001b[39;00m\n\u001b[1;32m-> 1023\u001b[0m \u001b[38;5;28mself\u001b[39m\u001b[38;5;241m.\u001b[39mbuffer \u001b[38;5;241m=\u001b[39m zipfile\u001b[38;5;241m.\u001b[39mZipFile(file, mode, \u001b[38;5;241m*\u001b[39m\u001b[38;5;241m*\u001b[39mkwargs)\n",
      "File \u001b[1;32mC:\\Program Files\\WindowsApps\\PythonSoftwareFoundation.Python.3.10_3.10.2032.0_x64__qbz5n2kfra8p0\\lib\\zipfile.py:1249\u001b[0m, in \u001b[0;36mZipFile.__init__\u001b[1;34m(self, file, mode, compression, allowZip64, compresslevel, strict_timestamps)\u001b[0m\n\u001b[0;32m   1247\u001b[0m \u001b[38;5;28;01mwhile\u001b[39;00m \u001b[38;5;28;01mTrue\u001b[39;00m:\n\u001b[0;32m   1248\u001b[0m     \u001b[38;5;28;01mtry\u001b[39;00m:\n\u001b[1;32m-> 1249\u001b[0m         \u001b[38;5;28mself\u001b[39m\u001b[38;5;241m.\u001b[39mfp \u001b[38;5;241m=\u001b[39m \u001b[43mio\u001b[49m\u001b[38;5;241;43m.\u001b[39;49m\u001b[43mopen\u001b[49m\u001b[43m(\u001b[49m\u001b[43mfile\u001b[49m\u001b[43m,\u001b[49m\u001b[43m \u001b[49m\u001b[43mfilemode\u001b[49m\u001b[43m)\u001b[49m\n\u001b[0;32m   1250\u001b[0m     \u001b[38;5;28;01mexcept\u001b[39;00m \u001b[38;5;167;01mOSError\u001b[39;00m:\n\u001b[0;32m   1251\u001b[0m         \u001b[38;5;28;01mif\u001b[39;00m filemode \u001b[38;5;129;01min\u001b[39;00m modeDict:\n",
      "\u001b[1;31mFileNotFoundError\u001b[0m: [Errno 2] No such file or directory: './assets/datasets/melbourne_data.zip'"
     ]
    }
   ],
   "source": [
    "df = pd.read_csv('./assets/datasets/melbourne_data.csv', # путь к файлу, (используй автодотолнение)\n",
    "                   sep=',', # разделитель данных в файле\n",
    "                 \n",
    "                   #  header= {None|Целочисленное} номер строки с заголовками, нумерация с нуля\n",
    "                   header=0,       #если заголовки в нулевой строке таблицы\n",
    "                   #  header=None  #если заголовки отсутствуют\n",
    "\n",
    "                   # na_values =  ['???', ' '], # доп. символы для обозначения отсутствующих значений\n",
    ")\n",
    "\n",
    "df[:2] # отобразить первые строки таблицы df "
   ]
  },
  {
   "cell_type": "markdown",
   "id": "3f8b4ef6",
   "metadata": {
    "id": "3f8b4ef6"
   },
   "source": [
    "Переменная __df__ является экземпляром класса __DataFrame__ библиотеки __pandas__.\n",
    "\n",
    "\"DataFrame\" - двумерный массив с изменяемым размером  набором полезных функций, каждый столбец которого является экземпляром класса \"Series\".\n",
    "\n",
    "| Series | Series | Series | Series |\n",
    "|--------|--------|--------|--------|\n",
    "| int | string | float | bool |\n",
    "| int | string | float | bool |\n",
    "| int | string | float | bool |"
   ]
  },
  {
   "cell_type": "markdown",
   "id": "edb2c165",
   "metadata": {
    "id": "edb2c165"
   },
   "source": [
    "Смысловая интерпретация:\n",
    " - каждая строка - объект, сделка по продаже\n",
    " - каждый столбец - признак, который описывает характеристику объекта(сделки)"
   ]
  },
  {
   "cell_type": "markdown",
   "id": "86c79c07",
   "metadata": {
    "id": "86c79c07"
   },
   "source": [
    "|   | Признак_0 | Признак_1 | Признак_2 |\n",
    "|--------|--------|--------|--------|\n",
    "| Объект_0 | string | float | bool |\n",
    "| Объект_1 | string | float | bool |\n",
    "| Объект_2 | string | float | bool |"
   ]
  },
  {
   "cell_type": "code",
   "execution_count": null,
   "id": "iRMBDhcYpLbJ",
   "metadata": {
    "id": "iRMBDhcYpLbJ"
   },
   "outputs": [],
   "source": []
  },
  {
   "cell_type": "markdown",
   "id": "6537a0c6",
   "metadata": {
    "id": "6537a0c6"
   },
   "source": [
    "Осмотрим полученную таблицу и убедимся, что данные загружены корректно"
   ]
  },
  {
   "cell_type": "code",
   "execution_count": null,
   "id": "8c2650a8",
   "metadata": {
    "colab": {
     "base_uri": "https://localhost:8080/",
     "height": 307
    },
    "executionInfo": {
     "elapsed": 28,
     "status": "ok",
     "timestamp": 1662904587824,
     "user": {
      "displayName": "Иван Осипенко",
      "userId": "16599116897440604411"
     },
     "user_tz": -420
    },
    "id": "8c2650a8",
    "outputId": "f67b13dc-21f3-4061-8e6d-a43eadd1ac46"
   },
   "outputs": [],
   "source": [
    "df [0:3] # Квадратные скобки позволяют получить срез исходной таблицы DataFrame[начало:конец]"
   ]
  },
  {
   "cell_type": "markdown",
   "id": "4d9ab1d0",
   "metadata": {
    "id": "4d9ab1d0"
   },
   "source": [
    "## Осмотр данных / Первичный анализ"
   ]
  },
  {
   "cell_type": "markdown",
   "id": "465fdee7",
   "metadata": {
    "id": "465fdee7"
   },
   "source": [
    "### Размер таблицы"
   ]
  },
  {
   "cell_type": "markdown",
   "id": "572063eb",
   "metadata": {
    "id": "572063eb"
   },
   "source": [
    "Свойство __DataFrame.shape__ возвращает два значения соответствующей таблице - [кол-во строк, кол-во столбов]"
   ]
  },
  {
   "cell_type": "code",
   "execution_count": null,
   "id": "6bde5c0f",
   "metadata": {
    "colab": {
     "base_uri": "https://localhost:8080/"
    },
    "executionInfo": {
     "elapsed": 545,
     "status": "ok",
     "timestamp": 1662904593747,
     "user": {
      "displayName": "Иван Осипенко",
      "userId": "16599116897440604411"
     },
     "user_tz": -420
    },
    "id": "6bde5c0f",
    "outputId": "5c71b65f-eb11-4744-eaa0-813b34c91e24"
   },
   "outputs": [],
   "source": [
    "print  (df.shape)\n",
    "nrow = df.shape[0]\n",
    "ncol = df.shape[1]\n",
    "print (\"Итого: \" + str(nrow) + \" записи, \" + str(ncol) + \" столбец (признак).\")"
   ]
  },
  {
   "cell_type": "markdown",
   "id": "cfe4e86c",
   "metadata": {
    "id": "cfe4e86c"
   },
   "source": [
    "### Признаки"
   ]
  },
  {
   "cell_type": "markdown",
   "id": "1e894efc",
   "metadata": {
    "id": "1e894efc"
   },
   "source": [
    "Метод __describe()__ выводит основные статистически  данных по каждому числовому признаку (типы int64 и float64): \n",
    "* count - число непропущенных значений, \n",
    "* mean - среднее арифметическое \n",
    "* std - стандартное отклонение (среднеквадратическое), \n",
    "* min, max - минимальное и максимальное значение \n",
    "* 0.25, 0.50, 0.75 квартили.\n",
    "* unique - кол-во уникальных значения\n",
    "* top - самое часто встречающееся значение\n",
    "* freq - кол-во значений 'top'\n"
   ]
  },
  {
   "cell_type": "code",
   "execution_count": null,
   "id": "d9bec08c",
   "metadata": {
    "colab": {
     "base_uri": "https://localhost:8080/",
     "height": 365
    },
    "executionInfo": {
     "elapsed": 36,
     "status": "ok",
     "timestamp": 1662904596531,
     "user": {
      "displayName": "Иван Осипенко",
      "userId": "16599116897440604411"
     },
     "user_tz": -420
    },
    "id": "d9bec08c",
    "outputId": "48ce04fb-b6f1-43fd-d2b7-afa8dfcc3dff"
   },
   "outputs": [],
   "source": [
    "df.describe() # описание для числовых значений"
   ]
  },
  {
   "cell_type": "markdown",
   "id": "b02fb608",
   "metadata": {
    "id": "b02fb608"
   },
   "source": [
    "### Названия признаков"
   ]
  },
  {
   "cell_type": "markdown",
   "id": "fc302894",
   "metadata": {
    "id": "fc302894"
   },
   "source": [
    "Получим список всех столбцов, при помощи свойства __DataFrame.columns__"
   ]
  },
  {
   "cell_type": "code",
   "execution_count": null,
   "id": "39b52308",
   "metadata": {
    "colab": {
     "base_uri": "https://localhost:8080/"
    },
    "executionInfo": {
     "elapsed": 494,
     "status": "ok",
     "timestamp": 1662904600632,
     "user": {
      "displayName": "Иван Осипенко",
      "userId": "16599116897440604411"
     },
     "user_tz": -420
    },
    "id": "39b52308",
    "outputId": "ddc4af93-5c86-40dc-b75c-51b129a59b73"
   },
   "outputs": [],
   "source": [
    "df.columns"
   ]
  },
  {
   "cell_type": "markdown",
   "id": "2f32c6a7",
   "metadata": {
    "id": "2f32c6a7"
   },
   "source": [
    "В случае, если названия столбцов отсутствуют, либо требуется их изменить, то полю data.columns следует присвоить новый список(list) из строк."
   ]
  },
  {
   "cell_type": "code",
   "execution_count": null,
   "id": "669b7a6b",
   "metadata": {
    "id": "669b7a6b"
   },
   "outputs": [],
   "source": [
    "colNamesList = ['Suburb',\n",
    "                'Address',\n",
    "                'Rooms',\n",
    "                'Type',\n",
    "                'Price',\n",
    "                'Method',\n",
    "                'SellerG',\n",
    "                'Date',\n",
    "                'Distance',\n",
    "                'Postcode',\n",
    "                'Bedroom2',\n",
    "                'Bathroom',\n",
    "                'Car',\n",
    "                'Landsize',\n",
    "                'BuildingArea',\n",
    "                'YearBuilt',\n",
    "                'CouncilArea',\n",
    "                'Lattitude',\n",
    "                'Longtitude',\n",
    "                'Regionname',\n",
    "                'Propertycount']\n",
    "\n",
    "df.columns = (  colNamesList )"
   ]
  },
  {
   "cell_type": "markdown",
   "id": "370fcad7",
   "metadata": {
    "id": "370fcad7"
   },
   "source": [
    "## Пропущенные значения"
   ]
  },
  {
   "cell_type": "markdown",
   "id": "5fb08030",
   "metadata": {
    "id": "5fb08030"
   },
   "source": [
    "Осмотрим значения последних пяти объектов, обратим внимание на значения __NaN__ в столбцах __'BuildingArea'__ и __'CouncilArea'__  - особые значение для заполнения отсутствующих в источнике."
   ]
  },
  {
   "cell_type": "code",
   "execution_count": null,
   "id": "4c5aeb39",
   "metadata": {
    "colab": {
     "base_uri": "https://localhost:8080/",
     "height": 324
    },
    "executionInfo": {
     "elapsed": 482,
     "status": "ok",
     "timestamp": 1662904608361,
     "user": {
      "displayName": "Иван Осипенко",
      "userId": "16599116897440604411"
     },
     "user_tz": -420
    },
    "id": "4c5aeb39",
    "outputId": "69b388b6-ef52-4827-db47-c5a1f910df10"
   },
   "outputs": [],
   "source": [
    "df[-3:]"
   ]
  },
  {
   "cell_type": "markdown",
   "id": "1eddd737",
   "metadata": {
    "id": "1eddd737"
   },
   "source": [
    "У объекта DataFrame присутствует функция isna(), которая формирует соответствующую __таблицу-маску__ совпадающую по размеру с исходной, но каждое значение __маски__ - логический индикатор True|False"
   ]
  },
  {
   "cell_type": "code",
   "execution_count": null,
   "id": "bef0d8a5",
   "metadata": {
    "colab": {
     "base_uri": "https://localhost:8080/",
     "height": 237
    },
    "executionInfo": {
     "elapsed": 40,
     "status": "ok",
     "timestamp": 1662904610515,
     "user": {
      "displayName": "Иван Осипенко",
      "userId": "16599116897440604411"
     },
     "user_tz": -420
    },
    "id": "bef0d8a5",
    "outputId": "6401edb4-a12d-447f-f04f-2f19a834a282"
   },
   "outputs": [],
   "source": [
    "df.isna()[-3:]"
   ]
  },
  {
   "cell_type": "markdown",
   "id": "a07eb8b6",
   "metadata": {
    "id": "a07eb8b6"
   },
   "source": [
    "Над таблицей __таблицей-маской__ допустимо выполнить агрегирующую функцию __.sum()__ , при этом каждое значение TRUE будет приведено к единицы и в результате мы получим количество пропущенных элементов по каждому признаку. "
   ]
  },
  {
   "cell_type": "code",
   "execution_count": null,
   "id": "a9ddabfe",
   "metadata": {
    "colab": {
     "base_uri": "https://localhost:8080/"
    },
    "executionInfo": {
     "elapsed": 50,
     "status": "ok",
     "timestamp": 1662904610531,
     "user": {
      "displayName": "Иван Осипенко",
      "userId": "16599116897440604411"
     },
     "user_tz": -420
    },
    "id": "a9ddabfe",
    "outputId": "2e4b9b76-fa98-4fda-86d5-d4c44d5f29c4"
   },
   "outputs": [],
   "source": [
    "df.isna().sum() "
   ]
  },
  {
   "cell_type": "markdown",
   "id": "bb8289f5",
   "metadata": {
    "id": "bb8289f5"
   },
   "source": [
    "Для понимания как распределены отсутствующие значения в исходной таблице, попробуем получить графическое изображение __таблицы-маски__"
   ]
  },
  {
   "cell_type": "code",
   "execution_count": null,
   "id": "eba9257e",
   "metadata": {
    "colab": {
     "base_uri": "https://localhost:8080/",
     "height": 939
    },
    "executionInfo": {
     "elapsed": 845,
     "status": "ok",
     "timestamp": 1662904946787,
     "user": {
      "displayName": "Иван Осипенко",
      "userId": "16599116897440604411"
     },
     "user_tz": -420
    },
    "id": "eba9257e",
    "outputId": "7ea32821-a31f-4361-eeb6-92749ae62b43",
    "scrolled": false
   },
   "outputs": [],
   "source": [
    "from matplotlib.colors import ListedColormap\n",
    "def plotTableNA(dataF, addToTilte =\"\"):\n",
    "    '''  Функция для построения графика отображение отсутсвующих значений'''\n",
    "    if   len(dataF.columns)> 20:   K = 3\n",
    "    elif len(dataF.columns)== 1:   K = 1\n",
    "    else:                          K = 1.7 \n",
    "        \n",
    "    figSizeH = 15        # размер полотна, высота\n",
    "    figSizeW =int(len(dataF.columns)/K) # размер полотна, ширина\n",
    "    fig, ax = plt.subplots( figsize=(figSizeW, figSizeH))\n",
    "\n",
    "    # отрисовать матрицу значений функцией imshow. Применяется цветовая палитра \n",
    "    plt.imshow( dataF.isna(),\n",
    "                cmap = ListedColormap([ '#3B5A92', 'white', ]), #cm.get_cmap('jet'),\n",
    "                aspect='auto',  # ‘auto’ | ‘equal’ | scalar]\n",
    "                interpolation= 'none',)\n",
    "    ax.set_xticks(np.arange(len(dataF.columns)))\n",
    "    ax.set_xticklabels(dataF.columns, rotation=-70,)\n",
    "    plt.title(\"Графическое отображение отсутсвующих значений (белые). \"+ addToTilte)\n",
    "\n",
    "# Вызов функции с указанием параметров\n",
    "plotTableNA( df, \"Исходный\")"
   ]
  },
  {
   "cell_type": "markdown",
   "id": "52e7a4e6",
   "metadata": {
    "id": "52e7a4e6"
   },
   "source": [
    "Перед дальнейшими действиями следует обработать пропущенные значения. Варианты обработки:\n",
    "- Вар.1. заполнить \"особыми\" значениями, которые невозможно встретить в выборке (прим.: \"#NA\")\n",
    "- Вар.2. заполнить вычисленными значениями, рассчитанными на основе имеющихся значений признака (средние, мин., макс., и т.д.)\n",
    "- Вар.3. исключить строки или столбцы:\n",
    "  - Вар.3.1. исключить строки, в которых присутствуют пропущенные значения\n",
    "  - Вар.3.2. исключить столбцы, в которых присутствуют пропущенные значения "
   ]
  },
  {
   "cell_type": "code",
   "execution_count": null,
   "id": "8b512c23",
   "metadata": {
    "colab": {
     "base_uri": "https://localhost:8080/"
    },
    "executionInfo": {
     "elapsed": 1645,
     "status": "ok",
     "timestamp": 1662905086225,
     "user": {
      "displayName": "Иван Осипенко",
      "userId": "16599116897440604411"
     },
     "user_tz": -420
    },
    "id": "8b512c23",
    "outputId": "644aabca-36ba-423d-f047-b29077b18c6f"
   },
   "outputs": [],
   "source": [
    "print(\"Размер исходного DataFrame\", df.shape)\n",
    "print(\"Вар.3.1. Размер при исключении по строкам\", df.dropna(axis='index', how='any').shape)\n",
    "print(\"Вар.3.2. Размер при исключении по столбцам\", df.dropna(axis='columns', how='any').shape)"
   ]
  },
  {
   "cell_type": "markdown",
   "id": "cc8d0b1b",
   "metadata": {
    "id": "cc8d0b1b"
   },
   "source": [
    "Несмотря на существенное кол-во пропущенных значений в признаках \"BuildingArea\" и \"YearBuilt\", названные признаки предположительно информативны, поэтому примем решение их сохранить, а следовательно выбрать режим исключения __\"Вар.3.1.\"__ "
   ]
  },
  {
   "cell_type": "code",
   "execution_count": null,
   "id": "2afc3565",
   "metadata": {
    "colab": {
     "base_uri": "https://localhost:8080/"
    },
    "executionInfo": {
     "elapsed": 33,
     "status": "ok",
     "timestamp": 1662905086228,
     "user": {
      "displayName": "Иван Осипенко",
      "userId": "16599116897440604411"
     },
     "user_tz": -420
    },
    "id": "2afc3565",
    "outputId": "ddac2414-fce2-49fd-dad3-e5df17f89ddc"
   },
   "outputs": [],
   "source": [
    "# axis='index' - удаление строк\n",
    "# axis='columns' - удаление столбцов\n",
    "df = df.dropna(axis='index', how='any')\n",
    "print(\"Размер таблицы после исключения пропусков\", df.shape)"
   ]
  },
  {
   "cell_type": "markdown",
   "id": "3822e7f5",
   "metadata": {
    "id": "3822e7f5"
   },
   "source": [
    "Необходимо убедится в том, ожидаемый результат совпадает с фактическим."
   ]
  },
  {
   "cell_type": "code",
   "execution_count": null,
   "id": "2338e855",
   "metadata": {
    "colab": {
     "base_uri": "https://localhost:8080/"
    },
    "executionInfo": {
     "elapsed": 19,
     "status": "ok",
     "timestamp": 1662905086772,
     "user": {
      "displayName": "Иван Осипенко",
      "userId": "16599116897440604411"
     },
     "user_tz": -420
    },
    "id": "2338e855",
    "outputId": "a19f134e-9c5c-4f05-ee34-2b0f3a9374ad"
   },
   "outputs": [],
   "source": [
    "df.isna().sum() "
   ]
  },
  {
   "cell_type": "markdown",
   "id": "610d7dd3",
   "metadata": {
    "id": "610d7dd3"
   },
   "source": [
    "## Приведение признаков к числовыми"
   ]
  },
  {
   "cell_type": "markdown",
   "id": "ec6279c2",
   "metadata": {
    "id": "ec6279c2"
   },
   "source": [
    "На текущем этапе в таблице присутствуют столбцы с категориальными значениями (тип данных object), которые необходимо преобразовать к числовым значениям (тип данных int, float)."
   ]
  },
  {
   "cell_type": "code",
   "execution_count": null,
   "id": "dda4b65f",
   "metadata": {
    "colab": {
     "base_uri": "https://localhost:8080/"
    },
    "executionInfo": {
     "elapsed": 13,
     "status": "ok",
     "timestamp": 1662905089349,
     "user": {
      "displayName": "Иван Осипенко",
      "userId": "16599116897440604411"
     },
     "user_tz": -420
    },
    "id": "dda4b65f",
    "outputId": "58351bfe-0c66-4ae2-82ae-3e71813ac20f"
   },
   "outputs": [],
   "source": [
    "df.info()"
   ]
  },
  {
   "cell_type": "markdown",
   "id": "9a8887d5",
   "metadata": {
    "id": "9a8887d5"
   },
   "source": [
    "В нашем случае категориальными признаками являются названия, символьные обозначения типа недвижимости и пр.\n",
    "\n",
    "Для преобразования числовым значениям только те признаки, количество уникальных значений не превышает 8 (строка unique)."
   ]
  },
  {
   "cell_type": "code",
   "execution_count": null,
   "id": "b6fca570",
   "metadata": {
    "colab": {
     "base_uri": "https://localhost:8080/",
     "height": 175
    },
    "executionInfo": {
     "elapsed": 35,
     "status": "ok",
     "timestamp": 1662905091434,
     "user": {
      "displayName": "Иван Осипенко",
      "userId": "16599116897440604411"
     },
     "user_tz": -420
    },
    "id": "b6fca570",
    "outputId": "206a0675-da45-4848-8e07-cfa3ae484354"
   },
   "outputs": [],
   "source": [
    "df.describe(include=['object', 'bool'])  # описание для не числовых значений"
   ]
  },
  {
   "cell_type": "markdown",
   "id": "53319201",
   "metadata": {
    "id": "53319201"
   },
   "source": [
    "Метоп __pd.get_dummies__ формирует новую таблицу (DataFrame), в которой будут добавлены столбцы по количеству уникальных значений категориального признака.\n",
    "\n",
    "При этом только в одной группе столбцов соответствующих исходному признаку будет присутствовать единственное значение \"1\" как признак принадлежности."
   ]
  },
  {
   "cell_type": "code",
   "execution_count": null,
   "id": "47c76973",
   "metadata": {
    "colab": {
     "base_uri": "https://localhost:8080/",
     "height": 242
    },
    "executionInfo": {
     "elapsed": 21,
     "status": "ok",
     "timestamp": 1662905093485,
     "user": {
      "displayName": "Иван Осипенко",
      "userId": "16599116897440604411"
     },
     "user_tz": -420
    },
    "id": "47c76973",
    "outputId": "cc208938-def9-4ac1-ee9b-d95e22b83d5f"
   },
   "outputs": [],
   "source": [
    "objColNames = ['Type', 'Regionname'] # названия признаков в исходной таблицы\n",
    "prefixColNames =  ['Type', 'RegN']   # сокращенные названия признаков для новой таблицы\n",
    "\n",
    "df_dummies = pd.get_dummies(\n",
    "    df[objColNames],       # названия признаков в исходной \n",
    "    prefix=prefixColNames  # сокращенные названия в новой\n",
    ")\n",
    "df_dummies[:3]"
   ]
  },
  {
   "cell_type": "markdown",
   "id": "c3ee1d9b",
   "metadata": {
    "id": "c3ee1d9b"
   },
   "source": [
    "## Формирование таблицы с строго числовыми значениями"
   ]
  },
  {
   "cell_type": "markdown",
   "id": "be98b3ea",
   "metadata": {
    "id": "be98b3ea"
   },
   "source": [
    "Полученную таблицу __df_dummies__ объединим с строго числовыми столбцами исходной таблицы. Для этого перечислим названия числовых признаков и используем метод pd.concat()"
   ]
  },
  {
   "cell_type": "code",
   "execution_count": null,
   "id": "b1360e83",
   "metadata": {
    "colab": {
     "base_uri": "https://localhost:8080/",
     "height": 272
    },
    "executionInfo": {
     "elapsed": 18,
     "status": "ok",
     "timestamp": 1662905095579,
     "user": {
      "displayName": "Иван Осипенко",
      "userId": "16599116897440604411"
     },
     "user_tz": -420
    },
    "id": "b1360e83",
    "outputId": "747b42af-11ed-454e-e883-14758c1de883"
   },
   "outputs": [],
   "source": [
    "# список названий числовых признаков исходной таблицы\n",
    "digitColName = [\n",
    "    'Rooms'       ,\n",
    "    'Price'       ,\n",
    "    'Distance'    ,\n",
    "    'Postcode'    ,\n",
    "    'Bedroom2'    ,\n",
    "    'Bathroom'    ,\n",
    "    'Car'         ,\n",
    "    'Landsize'    ,\n",
    "    'BuildingArea',\n",
    "    'YearBuilt'   ,\n",
    "    'Lattitude'   ,\n",
    "    'Longtitude'  ,\n",
    "    'Propertycount']\n",
    "\n",
    "\n",
    "# объединить выбранные столбцы из исходной таблицы df  с  столбцами созданной таблицы df_dummies\n",
    "df_digPlus  = pd.concat(\n",
    "                        [\n",
    "                          df[digitColName],   \n",
    "                          df_dummies     \n",
    "                        ], # список объединяемых объектов\n",
    "\n",
    "                        axis='columns' # способ объединения - по столбцам \n",
    ")\n",
    "df_digPlus[:3]"
   ]
  },
  {
   "cell_type": "markdown",
   "id": "d77d9540",
   "metadata": {
    "id": "d77d9540"
   },
   "source": [
    "# Выбор целевого значения и признаков для анализа данных"
   ]
  },
  {
   "cell_type": "markdown",
   "id": "bba189b5",
   "metadata": {
    "id": "bba189b5"
   },
   "source": [
    "<font color='red'> Все последующие действия производятся над таблицей <b>df_digPlus </b></font>\n"
   ]
  },
  {
   "cell_type": "markdown",
   "id": "8f50dad6",
   "metadata": {
    "id": "8f50dad6"
   },
   "source": [
    "## Корреляция"
   ]
  },
  {
   "cell_type": "markdown",
   "id": "19a6f90d",
   "metadata": {
    "id": "19a6f90d"
   },
   "source": [
    "* __Коэффициент корреляции r-Пирсона__\n",
    "  \n",
    "  Мера линейной взаимосвязи переменных, при нелинейной взаимосвязи непоказателен. Не устойчив к выбросам в выборке. Учитывает числовые значения. Переменные должны иметь нормальное распределение. Изменяется в пределах от -1 до +1.\n",
    "\n",
    "![Drag Racing](https://upload.wikimedia.org/wikipedia/commons/thumb/0/02/Correlation_examples.png/400px-Correlation_examples.png)"
   ]
  },
  {
   "cell_type": "code",
   "execution_count": null,
   "id": "80dcc576",
   "metadata": {
    "colab": {
     "base_uri": "https://localhost:8080/"
    },
    "executionInfo": {
     "elapsed": 794,
     "status": "ok",
     "timestamp": 1662905136888,
     "user": {
      "displayName": "Иван Осипенко",
      "userId": "16599116897440604411"
     },
     "user_tz": -420
    },
    "id": "80dcc576",
    "outputId": "a326fc86-711e-417a-b835-5adb9e5c1006",
    "scrolled": false
   },
   "outputs": [],
   "source": [
    "corr_df = df_digPlus.corr(method='pearson')\n",
    "corr_df[\"Price\"]"
   ]
  },
  {
   "cell_type": "markdown",
   "id": "e67f7070",
   "metadata": {
    "id": "e67f7070"
   },
   "source": [
    "Для того, чтобы визуально оценить величину коэффициентов корреляции постоим тепловую карту по значениям взаимозависимости признаков выборки."
   ]
  },
  {
   "cell_type": "code",
   "execution_count": null,
   "id": "8abaaa1b",
   "metadata": {
    "id": "8abaaa1b",
    "outputId": "622a89f3-d9e4-4e3a-8e94-b0f0df1f8d3f"
   },
   "outputs": [],
   "source": [
    "import matplotlib.pyplot as plt\n",
    "sns.set(style=\"white\")# цвет фона\n",
    "\n",
    "# построить \"маску\" для отображения только половины корреляционной матрицы\n",
    "mask = np.zeros_like(corr_df, dtype=np.bool)\n",
    "mask[np.triu_indices_from(mask)] = True\n",
    "\n",
    "fig, ax = plt.subplots(figsize=(12,12))\n",
    "sns.set(font_scale=0.8) # размер шрифта\n",
    "\n",
    "# Построить тепловую карту\n",
    "sns.heatmap(\n",
    "            ##################\n",
    "            data=corr_df,   ### <<<- объект-матрица корреляции \n",
    "            ##################\n",
    "            vmin=-1, vmax=1, center=0,\n",
    "            annot=True, \n",
    "            cmap = 'RdBu',\n",
    "            mask=mask,   # применить маску\n",
    "            square=True, # форма ячейки - квадрат\n",
    "            linewidths=1.0, # зазор между ячейки\n",
    "            cbar_kws={\"shrink\": .7}  # уменьшить размер легенды\n",
    "           )\n",
    "plt.title(u'Матрица корреляции признаков');\n"
   ]
  },
  {
   "cell_type": "code",
   "execution_count": null,
   "id": "43b8d73f",
   "metadata": {
    "id": "43b8d73f",
    "outputId": "593321da-2db9-41ad-fe9b-c5ca2d5bcf6a"
   },
   "outputs": [],
   "source": [
    "# Последовательное применение операции: \n",
    "# - получить единственный столбец, \n",
    "# - получить абсолютные значения, \n",
    "# - отсортировать\n",
    "corr_df[['Price']].abs().sort_values(by=\"Price\")"
   ]
  },
  {
   "cell_type": "markdown",
   "id": "4cfb35f5",
   "metadata": {
    "id": "4cfb35f5"
   },
   "source": [
    "В качестве целевой переменной выберем признак:\n",
    "- **'Price'** - Стоимость.\n",
    "\n",
    "\n",
    "В качестве независимых переменных выберем признаки с высоким абс. значением коэфф. корреляции, но при этом как можно более не связанные  между собой. Кандидаты: \n",
    "  * **'YearBuilt'** - Год постройки\n",
    "  * **'Landsize'**-  Размер участка\n",
    "  * **'Rooms'** - Кол-во комнат\n",
    "  * **'BuildingArea'** - Площадь\n",
    "  * **'Type_h'** - Тип недвижимости h - house,cottage,villa, semi,terrace;\n",
    "  * **'RegN_Southern Metropolitan'** - Район\n",
    "  \n",
    "  "
   ]
  },
  {
   "cell_type": "markdown",
   "id": "d89d7031",
   "metadata": {
    "id": "d89d7031"
   },
   "source": [
    "Составим списко исходный и целевой переменных"
   ]
  },
  {
   "cell_type": "code",
   "execution_count": null,
   "id": "1ff386fa",
   "metadata": {
    "id": "1ff386fa"
   },
   "outputs": [],
   "source": [
    "features = ['Rooms', 'YearBuilt', 'Landsize',  'Type_h', ]\n",
    "target   = ['Price']"
   ]
  },
  {
   "cell_type": "markdown",
   "id": "fb685da2",
   "metadata": {
    "id": "fb685da2"
   },
   "source": [
    "# Просмотр характеристик выбранных признаков"
   ]
  },
  {
   "cell_type": "markdown",
   "id": "884eb111",
   "metadata": {
    "id": "884eb111"
   },
   "source": [
    "<font color='red'> Все последующие действия производятся над таблицей <b>df_digPlus </b></font>\n"
   ]
  },
  {
   "cell_type": "code",
   "execution_count": null,
   "id": "ca8ee7fb",
   "metadata": {
    "colab": {
     "base_uri": "https://localhost:8080/",
     "height": 921
    },
    "executionInfo": {
     "elapsed": 15129,
     "status": "ok",
     "timestamp": 1662905159552,
     "user": {
      "displayName": "Иван Осипенко",
      "userId": "16599116897440604411"
     },
     "user_tz": -420
    },
    "id": "ca8ee7fb",
    "outputId": "a370b01e-47c3-45c4-f7b3-880f4a697390"
   },
   "outputs": [],
   "source": [
    "# График признаков попарно\n",
    "plt.figure(figsize=(7,7))\n",
    "%config InlineBackend.figure_format = 'png' # формат изображений PNG, для сокращения времени отрисовки графиков\n",
    "\n",
    "sns.pairplot(\n",
    "    df_digPlus[features + target], \n",
    "    #hue = 'Type',         # Признак разделения\n",
    "    kind=\"scatter\",        # Тип даграмм: reg,scatter \n",
    "    diag_kind = 'hist',     # Тип диагоральных даграмм: hist, kde\n",
    "    plot_kws={'alpha':0.3} # прозрачность точек\n",
    "); "
   ]
  },
  {
   "cell_type": "markdown",
   "id": "64c07f2e",
   "metadata": {
    "id": "64c07f2e"
   },
   "source": [
    "## Поиск и обработка выбросов"
   ]
  },
  {
   "cell_type": "markdown",
   "id": "c4785709",
   "metadata": {
    "id": "c4785709"
   },
   "source": [
    "<font color='red'> Все последующие действия производятся над таблицей <b>df_digPlus </b></font>\n"
   ]
  },
  {
   "cell_type": "markdown",
   "id": "d5e3da50",
   "metadata": {
    "id": "d5e3da50"
   },
   "source": [
    "Судя по виду графиков рассеяния в \"пустых областях\" присутствуют малое кол-во объектов, т.е. в выборе присутствуют аномально малые или большие значения - \"выбросы\". Для их обработки проведем следующие операции."
   ]
  },
  {
   "cell_type": "code",
   "execution_count": null,
   "id": "f8f9e38a",
   "metadata": {
    "colab": {
     "base_uri": "https://localhost:8080/",
     "height": 730
    },
    "executionInfo": {
     "elapsed": 1276,
     "status": "ok",
     "timestamp": 1662905316641,
     "user": {
      "displayName": "Иван Осипенко",
      "userId": "16599116897440604411"
     },
     "user_tz": -420
    },
    "id": "f8f9e38a",
    "outputId": "e99f8abe-686b-4e5c-a059-3f226b09258d"
   },
   "outputs": [],
   "source": [
    "# Цикл: для каждого элемента в объединенном списке\n",
    "for feature_name in (features+target):\n",
    "    \n",
    "    # Построить полотно для рисования с указанным размером\n",
    "    plt.figure(figsize=(16,2))\n",
    "    \n",
    "    # На созданном полотне отрисовать boxplot\n",
    "    sns.boxplot( data=df_digPlus[[feature_name]], # данные\n",
    "                 orient='h' # ориентация графика\n",
    "               )"
   ]
  },
  {
   "cell_type": "markdown",
   "id": "d31d2e9f",
   "metadata": {
    "id": "d31d2e9f"
   },
   "source": [
    "Установим границы значений, для тех объектов таблицы, которые должны остаться"
   ]
  },
  {
   "cell_type": "code",
   "execution_count": null,
   "id": "6ed82f47",
   "metadata": {
    "colab": {
     "base_uri": "https://localhost:8080/"
    },
    "executionInfo": {
     "elapsed": 557,
     "status": "ok",
     "timestamp": 1662905329609,
     "user": {
      "displayName": "Иван Осипенко",
      "userId": "16599116897440604411"
     },
     "user_tz": -420
    },
    "id": "6ed82f47",
    "outputId": "e5159a72-9611-4a7d-8478-7ffd6fb5cb86"
   },
   "outputs": [],
   "source": [
    "# создадим \"словарь\"/\"хэш-таблицу\" для удобного обращения, где ключ - это название признака\n",
    "tressholdDict = { \n",
    "    'Rooms'     : (1,7)            , # кол-во комнат\n",
    "    'YearBuilt' : (1850, 2020)     , # год постройки\n",
    "    'Landsize'  : (0, 1300)        , # размер участка\n",
    "    'Price'     : (0, 2.1 * 10**6) , # цена\n",
    "}\n",
    "\n",
    "print (tressholdDict)"
   ]
  },
  {
   "cell_type": "markdown",
   "id": "a11e292f",
   "metadata": {
    "id": "a11e292f"
   },
   "source": [
    "Проверим, какая часть данных выходит за пределы границ значений\n"
   ]
  },
  {
   "cell_type": "code",
   "execution_count": null,
   "id": "67e061c2",
   "metadata": {
    "colab": {
     "base_uri": "https://localhost:8080/"
    },
    "executionInfo": {
     "elapsed": 511,
     "status": "ok",
     "timestamp": 1662905335458,
     "user": {
      "displayName": "Иван Осипенко",
      "userId": "16599116897440604411"
     },
     "user_tz": -420
    },
    "id": "67e061c2",
    "outputId": "0f6469e0-dc72-4670-f093-0466873f85e9"
   },
   "outputs": [],
   "source": [
    "# Цикл: для каждого элемента в словаре/хэш-таблице пройтись по ключам - названиям признаков\n",
    "for feature_name  in tressholdDict:\n",
    "    threesMin =  tressholdDict[feature_name][0] # извлечь нижнее пороговое\n",
    "    tresshMax =  tressholdDict[feature_name][1] # извлечь верхнее пороговое\n",
    "\n",
    "    # Получить кол-во эл. вне пороговых значений. Прием - фильтрация\n",
    "    over_count = len(  df_digPlus[ \n",
    "                            ~(df_digPlus[feature_name] >= threesMin ) & (df_digPlus[feature_name] <= tresshMax) # фильтр по двум границам. ~ инверсия логических значений\n",
    "                          ] \n",
    "                    )\n",
    "    \n",
    "    dcount = df_digPlus[feature_name].count() # кол-во эл. общее\n",
    "    \n",
    "    print ('''{}. Принимаем пороговые значение равными {}.\n",
    "  Кол-во эл. вне пороговых - {} из {} значение(ий) ({:.1%})\\n'''.format( \n",
    "        feature_name, \n",
    "        tressholdDict[feature_name],\n",
    "        over_count,\n",
    "        dcount,\n",
    "        over_count/ dcount,\n",
    "    ))"
   ]
  },
  {
   "cell_type": "markdown",
   "id": "165c65ea",
   "metadata": {
    "id": "165c65ea"
   },
   "source": [
    "Отфильтруем значения которые находятся вне пороговых."
   ]
  },
  {
   "cell_type": "code",
   "execution_count": null,
   "id": "5803c3a8",
   "metadata": {
    "colab": {
     "base_uri": "https://localhost:8080/"
    },
    "executionInfo": {
     "elapsed": 534,
     "status": "ok",
     "timestamp": 1662905349298,
     "user": {
      "displayName": "Иван Осипенко",
      "userId": "16599116897440604411"
     },
     "user_tz": -420
    },
    "id": "5803c3a8",
    "outputId": "59d44376-b2be-4edd-cbc7-cc5e1553c8bb"
   },
   "outputs": [],
   "source": [
    "# Во избежание путаницы создадим для полседующих операций копию исходного объетка\n",
    "df_digPlusFiltred = df_digPlus.copy()\n",
    "\n",
    "for feature_name  in tressholdDict:\n",
    "    threesMin =  tressholdDict[feature_name][0]\n",
    "    tresshMax =  tressholdDict[feature_name][1]\n",
    "    \n",
    "    \n",
    "    # фильтр по двум границам. Оператор \"~\" -инверсия логических значений\n",
    "    df_digPlusFiltred = df_digPlusFiltred[ \n",
    "        (df_digPlusFiltred[feature_name] >= threesMin ) & (df_digPlusFiltred[feature_name] <= tresshMax) \n",
    "        ]\n",
    "    print(\"Обработан \", feature_name )\n",
    "    \n",
    "    \n",
    "print (\"Отброшено {} строк. Осталось {} строк.\".format(\n",
    "    len(df_digPlus)  - len(df_digPlusFiltred),\n",
    "    len(df_digPlusFiltred))\n",
    ")"
   ]
  },
  {
   "cell_type": "code",
   "execution_count": null,
   "id": "b85fcad7",
   "metadata": {
    "colab": {
     "base_uri": "https://localhost:8080/",
     "height": 440
    },
    "executionInfo": {
     "elapsed": 1534,
     "status": "ok",
     "timestamp": 1662905379391,
     "user": {
      "displayName": "Иван Осипенко",
      "userId": "16599116897440604411"
     },
     "user_tz": -420
    },
    "id": "b85fcad7",
    "outputId": "8168dbb7-0bcd-4fd7-a9ea-c268b0b83968"
   },
   "outputs": [],
   "source": [
    "# Строим гистограммы по каждому признаку: \n",
    "# data[features].hist() #Упрощенный вывод графиков\n",
    "\n",
    "plt.figure(figsize=(16, 5))\n",
    "plot_number = 0\n",
    "\n",
    "for feature_name in (features+target):\n",
    "    plot_number += 1\n",
    "    \n",
    "    plt.subplot(1, len(features+target), plot_number)\n",
    "    \n",
    "    plt.hist(df_digPlusFiltred[feature_name]) # Построение гистрограммы\n",
    "    \n",
    "    plt.title(feature_name)\n",
    "    plt.xlabel(u'Значения')\n",
    "    plt.ylabel(u'Частота')\n",
    "    print (feature_name, \n",
    "           df_digPlusFiltred[feature_name].min(),\n",
    "           df_digPlusFiltred[feature_name].max())"
   ]
  },
  {
   "cell_type": "markdown",
   "id": "1660b79a",
   "metadata": {
    "id": "1660b79a"
   },
   "source": [
    "## Сохранение данных"
   ]
  },
  {
   "cell_type": "markdown",
   "id": "b135e5ff",
   "metadata": {
    "id": "b135e5ff"
   },
   "source": [
    "<font color='red'> Все последующие действия производятся над таблицей <b>df_digPlusFiltred </b></font>\n"
   ]
  },
  {
   "cell_type": "code",
   "execution_count": null,
   "id": "0c418b14",
   "metadata": {
    "id": "0c418b14"
   },
   "outputs": [],
   "source": [
    "df_digPlusFiltred.to_csv('../datasets/melbourne_data_PREPARED.csv', # путь для сохранения\n",
    "            index=False, # запрет сохранения \"индексов\" (тек. номеров строк)\n",
    "           )"
   ]
  },
  {
   "cell_type": "markdown",
   "id": "179adfee",
   "metadata": {
    "id": "179adfee"
   },
   "source": [
    "## Формирование тренировочной и проверочной выборок"
   ]
  },
  {
   "cell_type": "markdown",
   "id": "9f013710",
   "metadata": {
    "id": "9f013710"
   },
   "source": [
    "<font color='red'> Все последующие действия производятся над таблицей <b>df_digPlusFiltred </b></font>\n"
   ]
  },
  {
   "cell_type": "markdown",
   "id": "20411286",
   "metadata": {
    "id": "20411286"
   },
   "source": [
    "Для обучения и проверки качеста модели применяют прием заключающийся в разделении исходной выборки на части:\n",
    "* Обучающую (Train) - данные, на которых модель формирует коэффициенты\n",
    "* Проверочную (Test) - данные, которые предявляют обученой модели для получения и сравнения вычисленных(Predicted) значений. \n",
    "\n",
    "Для разделения воспользуемся функцией __train_test_split__ из пакета __sklearn__"
   ]
  },
  {
   "cell_type": "markdown",
   "id": "eb1b3506",
   "metadata": {
    "id": "eb1b3506"
   },
   "source": [
    "![train-test-split.png](data:image/png;base64,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)"
   ]
  },
  {
   "cell_type": "code",
   "execution_count": null,
   "id": "b639ad4a",
   "metadata": {
    "id": "b639ad4a"
   },
   "outputs": [],
   "source": [
    "valid_size = 0.3 # доля тестовой части в выборке\n",
    "rand_seed = 8 # начальное состояние генератора случ. чисел\n",
    "\n",
    "x_train, x_test, y_train, y_test =  train_test_split(\n",
    "    df_digPlusFiltred[features],    # исходные данные X\n",
    "    df_digPlusFiltred[target],      # исходные данные y\n",
    "    \n",
    "    test_size = valid_size, # доля тестовой части в выборке\n",
    "    random_state=rand_seed, # начальное состояние генератора случ. чисел\n",
    "    shuffle=True            # перемешивание\n",
    ") "
   ]
  },
  {
   "cell_type": "code",
   "execution_count": null,
   "id": "bb243983",
   "metadata": {
    "colab": {
     "base_uri": "https://localhost:8080/"
    },
    "executionInfo": {
     "elapsed": 12,
     "status": "ok",
     "timestamp": 1662905745497,
     "user": {
      "displayName": "Иван Осипенко",
      "userId": "16599116897440604411"
     },
     "user_tz": -420
    },
    "id": "bb243983",
    "outputId": "e4020e4f-f94f-465c-fcd2-67837cf6bcb8"
   },
   "outputs": [],
   "source": [
    "print (\"Кол-во элементов: \\n  x_train: {}, y_train {} \\n  x_test:  {}, y_test  {} \\n  total x: {}, total y {} \".format  (\n",
    "    len(x_train), len(y_train),\n",
    "    len(x_test),  len(x_test), \n",
    "    len(x_train)+len(x_test), len(y_train)+len(x_test),\n",
    "))"
   ]
  },
  {
   "cell_type": "markdown",
   "id": "e39346f9",
   "metadata": {
    "id": "e39346f9"
   },
   "source": [
    "Проверим содержимое обучающей и проверочной частей"
   ]
  },
  {
   "cell_type": "code",
   "execution_count": null,
   "id": "74d1b60a",
   "metadata": {
    "colab": {
     "base_uri": "https://localhost:8080/",
     "height": 144
    },
    "executionInfo": {
     "elapsed": 33,
     "status": "ok",
     "timestamp": 1662905747637,
     "user": {
      "displayName": "Иван Осипенко",
      "userId": "16599116897440604411"
     },
     "user_tz": -420
    },
    "id": "74d1b60a",
    "outputId": "8e28186a-7b44-4e6e-e9c4-6333834aa4ed"
   },
   "outputs": [],
   "source": [
    "x_test[:3]"
   ]
  },
  {
   "cell_type": "code",
   "execution_count": null,
   "id": "7922aa97",
   "metadata": {
    "colab": {
     "base_uri": "https://localhost:8080/",
     "height": 144
    },
    "executionInfo": {
     "elapsed": 31,
     "status": "ok",
     "timestamp": 1662905747639,
     "user": {
      "displayName": "Иван Осипенко",
      "userId": "16599116897440604411"
     },
     "user_tz": -420
    },
    "id": "7922aa97",
    "outputId": "99e770e9-6b8c-468f-f693-043f3bedbf3d"
   },
   "outputs": [],
   "source": [
    "y_test[:3]"
   ]
  },
  {
   "cell_type": "markdown",
   "id": "f3b062cc",
   "metadata": {
    "id": "f3b062cc"
   },
   "source": [
    "# Построение модели"
   ]
  },
  {
   "cell_type": "markdown",
   "id": "483f2586",
   "metadata": {
    "id": "483f2586"
   },
   "source": [
    "<font color='red'> Все последующие действия производятся над таблицами <b>x_train, x_test, y_train, y_test </b></font>\n"
   ]
  },
  {
   "cell_type": "markdown",
   "id": "e6bfa6bb",
   "metadata": {
    "id": "e6bfa6bb"
   },
   "source": [
    "## Одномерная модель от признака 'YearBuilt'"
   ]
  },
  {
   "cell_type": "markdown",
   "id": "e8f99fff",
   "metadata": {
    "id": "e8f99fff"
   },
   "source": [
    "Для получения линейной регрессионной модели созданим экземпляр класс \n",
    "__sklearn.linear_model.LinearRegression()__"
   ]
  },
  {
   "cell_type": "code",
   "execution_count": null,
   "id": "6ffa44e5",
   "metadata": {
    "id": "6ffa44e5"
   },
   "outputs": [],
   "source": [
    "lr = linear_model.LinearRegression()"
   ]
  },
  {
   "cell_type": "markdown",
   "id": "71292122",
   "metadata": {
    "id": "71292122"
   },
   "source": [
    "Полученная модель требует процедуры обучения - подбора значений коэфф. для минимизации отличий между вычисленными значениями и предоставленными целевыми (обучающими y). У большинства моделей доступен метод __.fit( x_train,y_train)__"
   ]
  },
  {
   "cell_type": "code",
   "execution_count": null,
   "id": "46c77b8e",
   "metadata": {
    "id": "46c77b8e"
   },
   "outputs": [],
   "source": [
    "# Вычислить коэфф. Ki в функции y(x)=Ki*xi + .... + B\n",
    "# на тренировочном наборе, т.е. обучить модель\n",
    "lin_model_YearBuilt = lr.fit(\n",
    "    x_train[['YearBuilt']], \n",
    "    y_train[['Price']]\n",
    ")\n",
    "\n",
    "# Получить вычисленные(predicted) зн. на проверочном наборе\n",
    "# y_pred = fittedModel.predict(x_test)\n",
    "y_pred_PriceYearBuilt  = lin_model_YearBuilt.predict(x_test[['YearBuilt']])"
   ]
  },
  {
   "cell_type": "markdown",
   "id": "8377b74a",
   "metadata": {
    "id": "8377b74a"
   },
   "source": [
    "Для наглядности построим график рассеяния (он же график разброса, точечный, scatter)"
   ]
  },
  {
   "cell_type": "code",
   "execution_count": null,
   "id": "45eca647",
   "metadata": {
    "colab": {
     "base_uri": "https://localhost:8080/",
     "height": 350
    },
    "executionInfo": {
     "elapsed": 1375,
     "status": "ok",
     "timestamp": 1662905754209,
     "user": {
      "displayName": "Иван Осипенко",
      "userId": "16599116897440604411"
     },
     "user_tz": -420
    },
    "id": "45eca647",
    "outputId": "b673a2c9-db97-4b70-f7dc-202eff2035ce",
    "scrolled": true
   },
   "outputs": [],
   "source": [
    "# Создать полотно для рисования с указаными размерами\n",
    "plt.figure(figsize=(15,5))\n",
    "\n",
    "# Нанести график рассеяния - plt.scatter\n",
    "plt.scatter(x_train[['YearBuilt']],  y_train[['Price']], alpha=0.3, label='Тренировочный') # тренировочный\n",
    "plt.scatter(x_test[['YearBuilt']],   y_test[['Price']],  alpha=0.3, label='Проверочный')   # проверочный\n",
    "\n",
    "# Нанести график - линии через точки - plt.plot\n",
    "label_str = \"y_pred (x) = x * {:.0f} + {:.0f}\".format(lin_model_YearBuilt.coef_[0][0], lin_model_YearBuilt.intercept_[0])\n",
    "\n",
    "plt.plot( x_test[['YearBuilt']], y_pred_PriceYearBuilt,\n",
    "            lw=2, color='red', label=label_str)\n",
    "\n",
    "plt.legend(loc=\"best\")  # положение легенды\n",
    "plt.xlabel('YearBuilt') # подпись осей\n",
    "plt.ylabel(target[0])   # подпись осей\n",
    "plt.title(u'График разброса'); # Заголовок"
   ]
  },
  {
   "cell_type": "markdown",
   "id": "1a33eb86",
   "metadata": {
    "id": "1a33eb86"
   },
   "source": [
    "Т.к. модель является линейной имеются некоторые расхождения между реальными и вычисленными значениями - \"ошибки\". Для оценки точности построим гистограмму распределения ошибок"
   ]
  },
  {
   "cell_type": "code",
   "execution_count": null,
   "id": "fd6b3d4c",
   "metadata": {
    "colab": {
     "base_uri": "https://localhost:8080/",
     "height": 295
    },
    "executionInfo": {
     "elapsed": 678,
     "status": "ok",
     "timestamp": 1662905759533,
     "user": {
      "displayName": "Иван Осипенко",
      "userId": "16599116897440604411"
     },
     "user_tz": -420
    },
    "id": "fd6b3d4c",
    "outputId": "568317a8-c995-4253-f6bc-f798f0c5aa5f"
   },
   "outputs": [],
   "source": [
    "plt.figure(figsize=(6,4))\n",
    "\n",
    "# Гистограмма и Плотность распределения - sns.distplot\n",
    "# data = y_true - y_pred\n",
    "#sns.distplot(y_test[['Price']]- y_pred_PriceYearBuilt)\n",
    "sns.histplot(y_test[['Price']]- y_pred_PriceYearBuilt, \n",
    "             color=\"red\", \n",
    "             kde=True, # оценка плотности в виде кривой\n",
    "             stat=\"density\",# density: общая площадь равна 1\n",
    "            )\n",
    "\n",
    "# Осевая линия\n",
    "plt.plot(\n",
    "    [0, 0],\n",
    "    [0, 10 * pow(10,-7)], '--', lw=2, c='r')\n",
    "\n",
    "plt.ylabel(u'Плотность')\n",
    "plt.xlabel(u'Значение ошибки')\n",
    "plt.title(u'Плотность распределения и гистограмма ошибок');\n",
    "plt.show()"
   ]
  },
  {
   "cell_type": "markdown",
   "id": "2fcc5320",
   "metadata": {
    "id": "2fcc5320"
   },
   "source": [
    "Построим еще пару графиков для визуальной оценки качества модели"
   ]
  },
  {
   "cell_type": "code",
   "execution_count": null,
   "id": "0faa0684",
   "metadata": {
    "colab": {
     "base_uri": "https://localhost:8080/",
     "height": 422
    },
    "executionInfo": {
     "elapsed": 26,
     "status": "ok",
     "timestamp": 1662905763263,
     "user": {
      "displayName": "Иван Осипенко",
      "userId": "16599116897440604411"
     },
     "user_tz": -420
    },
    "id": "0faa0684",
    "outputId": "43652ef5-7152-4639-beb4-1d96509dc0b6"
   },
   "outputs": [],
   "source": [
    "plt.figure(figsize=(12,6))\n",
    "\n",
    "# создать первое полотно 121: 1-строк, 2-столбцов, 1-индекс в сетке\n",
    "plt.subplot(121)\n",
    "plt.scatter(y_test[['Price']], y_pred_PriceYearBuilt,  alpha=0.1)\n",
    "plt.scatter(y_test[['Price']], y_test[['Price']],  alpha=0.1)\n",
    "plt.title('Диаграмма рассеяния вычисленных значений');\n",
    "plt.xlabel('Проверочное Y')\n",
    "plt.ylabel('Вычисленное Y')\n",
    "\n",
    "# создать первое полотно 121: 1-строк, 2-столбцов, 2-индекс в сетке\n",
    "plt.subplot(122)\n",
    "plt.scatter(y_test[['Price']], (y_test[['Price']] - y_pred_PriceYearBuilt)**2,  alpha=0.1)\n",
    "\n",
    "plt.title('Диаграмма рассеяния ошибок')\n",
    "plt.xlabel('Проверочное Y')\n",
    "plt.ylabel('Абсолютная ошибка')\n"
   ]
  },
  {
   "cell_type": "markdown",
   "id": "6844ac63",
   "metadata": {
    "id": "6844ac63"
   },
   "source": [
    "С помощью функций __sklearn.metrics.*__ сравним реальные и вычисленные значениямя и получим важные оценки качества модели"
   ]
  },
  {
   "cell_type": "code",
   "execution_count": null,
   "id": "22afb68f",
   "metadata": {
    "colab": {
     "base_uri": "https://localhost:8080/"
    },
    "executionInfo": {
     "elapsed": 487,
     "status": "ok",
     "timestamp": 1662905766656,
     "user": {
      "displayName": "Иван Осипенко",
      "userId": "16599116897440604411"
     },
     "user_tz": -420
    },
    "id": "22afb68f",
    "outputId": "2cecd03c-45f8-4a54-89a3-152b38a5718a"
   },
   "outputs": [],
   "source": [
    "print (\"Линейная одномерная регрессия. Признак 'YearBuilt'.\")\n",
    "print (\"y_pred_PriceYearBuilt (x) = x * {} + {}\\n\".format(\n",
    "    lin_model_YearBuilt.coef_, lin_model_YearBuilt.intercept_))\n",
    "\n",
    "r2_LinRegr_YearBuilt   = metrics.r2_score                   (y_test[['Price']], y_pred_PriceYearBuilt)\n",
    "mae_LinRegr_YearBuilt  = metrics.mean_absolute_error        (y_test[['Price']], y_pred_PriceYearBuilt)\n",
    "rmse_LinRegr_YearBuilt = np.sqrt( metrics.mean_squared_error(y_test[['Price']], y_pred_PriceYearBuilt))\n",
    "\n",
    "\n",
    "print (\"R2 - коэфф. детерминации:        {:>7,.3f}\".format               ( r2_LinRegr_YearBuilt ))\n",
    "print (\"MAE - средняя абсолютная ошибка: {:>7,.3f}\".format               ( mae_LinRegr_YearBuilt ))\n",
    "print (\"RMSE - кв. корень из среднеквадратичной ошибки: {:>7,.3f}\".format( rmse_LinRegr_YearBuilt ))"
   ]
  },
  {
   "cell_type": "markdown",
   "id": "K_zEzh_UylzX",
   "metadata": {
    "id": "K_zEzh_UylzX"
   },
   "source": [
    "## Многомерная модель от  НАБОРА#1 переменных (пример: x1, x2, x3, ...) "
   ]
  },
  {
   "cell_type": "code",
   "execution_count": null,
   "id": "PLT85AJGzefG",
   "metadata": {
    "id": "PLT85AJGzefG"
   },
   "outputs": [],
   "source": [
    "# ваш код\n",
    "\n",
    "#lr_x1x2x3 = linear_model.LinearRegression()\n",
    "\n",
    "# Вычислить коэфф. на тренировочном наборе, т.е. обучить модель\n",
    "#lin_model_x1x2x3 = lr_x1x2x3.fit(\n",
    "#    x_train[['YearBuilt', 'Type_h', 'Rooms']], \n",
    "#    y_train[['Price']]\n",
    "#)\n",
    "\n",
    "# Получить вычисленные(predicted) зн. на проверочном наборе\n",
    "#y_pred = fittedModel.predict(x_test)\n",
    "#y_pred_x1x2x3  = lin_model_x1x2x3.predict(x_test[['YearBuilt', 'Type_h', 'Rooms']])\n",
    "\n",
    "#..."
   ]
  },
  {
   "cell_type": "markdown",
   "id": "YMxmPEG0ymE-",
   "metadata": {
    "id": "YMxmPEG0ymE-"
   },
   "source": [
    "## Многомерная модель от  НАБОРА#2 переменных (пример: x5, x6, x7, ...) "
   ]
  },
  {
   "cell_type": "code",
   "execution_count": null,
   "id": "TcdnEchRze_x",
   "metadata": {
    "id": "TcdnEchRze_x"
   },
   "outputs": [],
   "source": [
    "# ваш код"
   ]
  },
  {
   "cell_type": "markdown",
   "id": "48efc333",
   "metadata": {
    "id": "48efc333"
   },
   "source": [
    "# Итоги. Сравнение полученных моделей"
   ]
  },
  {
   "cell_type": "markdown",
   "id": "552f334c",
   "metadata": {
    "id": "552f334c"
   },
   "source": [
    "Размеры таблицы\n",
    "- исходная таблица = Строк x Столбцов\n",
    "- после искл пропущенных значений = Строк x Столбцов\n",
    "- после искл выбросов = Строк x Столбцов\n"
   ]
  },
  {
   "cell_type": "code",
   "execution_count": null,
   "id": "f67de45f",
   "metadata": {
    "colab": {
     "base_uri": "https://localhost:8080/",
     "height": 143
    },
    "executionInfo": {
     "elapsed": 22,
     "status": "ok",
     "timestamp": 1632195064042,
     "user": {
      "displayName": "Иван Осипенко",
      "photoUrl": "https://lh3.googleusercontent.com/a/default-user=s64",
      "userId": "16599116897440604411"
     },
     "user_tz": -420
    },
    "id": "f67de45f",
    "outputId": "de861e99-3d87-4a95-a15f-6ed74000efc4"
   },
   "outputs": [],
   "source": [
    "import pandas as pd\n",
    "\n",
    "ddf = pd.DataFrame (\n",
    "    {\n",
    "        \"Признак\": [\"Rooms\", \"x1, x2, x3\", \"x5, x6, x7\"],\n",
    "        \"K\":       [367971,     0,     0], \n",
    "        \"B\":       [-10648,     0,     0],\n",
    "        \"MAE\":     [378183,     0,     0],\n",
    "        \"RMSE\":    [530178,     0,     0],\n",
    "        \"R2\":      [0.308,      0,     0],\n",
    "    }\n",
    " )\n",
    "ddf"
   ]
  },
  {
   "cell_type": "markdown",
   "id": "193980d3",
   "metadata": {
    "id": "193980d3"
   },
   "source": [
    "# Выводы по работе"
   ]
  },
  {
   "cell_type": "markdown",
   "id": "b0219e14",
   "metadata": {
    "id": "b0219e14"
   },
   "source": [
    "..."
   ]
  },
  {
   "cell_type": "markdown",
   "id": "867c0736",
   "metadata": {
    "id": "867c0736"
   },
   "source": [
    "..."
   ]
  },
  {
   "cell_type": "markdown",
   "id": "d5f768c5",
   "metadata": {
    "id": "d5f768c5"
   },
   "source": [
    "..."
   ]
  }
 ],
 "metadata": {
  "colab": {
   "collapsed_sections": [],
   "provenance": [
    {
     "file_id": "1pbHU_NfunT_bCdZFIMkTCXZltHOegz0M",
     "timestamp": 1631484621907
    }
   ]
  },
  "kernelspec": {
   "display_name": "Python 3 (ipykernel)",
   "language": "python",
   "name": "python3"
  },
  "language_info": {
   "codemirror_mode": {
    "name": "ipython",
    "version": 3
   },
   "file_extension": ".py",
   "mimetype": "text/x-python",
   "name": "python",
   "nbconvert_exporter": "python",
   "pygments_lexer": "ipython3",
   "version": "3.10.7"
  },
  "toc": {
   "base_numbering": 1,
   "nav_menu": {},
   "number_sections": true,
   "sideBar": true,
   "skip_h1_title": false,
   "title_cell": "Table of Contents",
   "title_sidebar": "Contents",
   "toc_cell": true,
   "toc_position": {
    "height": "calc(100% - 180px)",
    "left": "10px",
    "top": "150px",
    "width": "250.583px"
   },
   "toc_section_display": true,
   "toc_window_display": true
  }
 },
 "nbformat": 4,
 "nbformat_minor": 5
}
